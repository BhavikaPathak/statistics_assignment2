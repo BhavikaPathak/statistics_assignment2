{
 "cells": [
  {
   "cell_type": "code",
   "execution_count": 9,
   "id": "5f2804a3-639a-441a-904f-502a66514b13",
   "metadata": {},
   "outputs": [],
   "source": [
    "#                                       ANSWER 1\n",
    "#There are three main measures of central tendency:\n",
    "# 1 -----> mode\n",
    "# 2 -----> median\n",
    "# 3 -----> mean"
   ]
  },
  {
   "cell_type": "code",
   "execution_count": 10,
   "id": "f8d3e730-4ed7-4de0-92db-d0c70b976ba7",
   "metadata": {},
   "outputs": [
    {
     "name": "stdout",
     "output_type": "stream",
     "text": [
      " The difference between mean , median , mode\n"
     ]
    },
    {
     "data": {
      "text/html": [
       "<div>\n",
       "<style scoped>\n",
       "    .dataframe tbody tr th:only-of-type {\n",
       "        vertical-align: middle;\n",
       "    }\n",
       "\n",
       "    .dataframe tbody tr th {\n",
       "        vertical-align: top;\n",
       "    }\n",
       "\n",
       "    .dataframe thead th {\n",
       "        text-align: right;\n",
       "    }\n",
       "</style>\n",
       "<table border=\"1\" class=\"dataframe\">\n",
       "  <thead>\n",
       "    <tr style=\"text-align: right;\">\n",
       "      <th></th>\n",
       "      <th>Mean</th>\n",
       "      <th>Median</th>\n",
       "      <th>Mode</th>\n",
       "    </tr>\n",
       "  </thead>\n",
       "  <tbody>\n",
       "    <tr>\n",
       "      <th>0</th>\n",
       "      <td>The average taken for a set of numbers is call...</td>\n",
       "      <td>The middle value in the data set is called the...</td>\n",
       "      <td>The number that occurs the most in a given lis...</td>\n",
       "    </tr>\n",
       "    <tr>\n",
       "      <th>1</th>\n",
       "      <td>Add all of the numbers together and divide the...</td>\n",
       "      <td>Place all the given numbers in an ascending order</td>\n",
       "      <td>It shows the frequency of occurrence</td>\n",
       "    </tr>\n",
       "    <tr>\n",
       "      <th>2</th>\n",
       "      <td>The result is the mean or average score</td>\n",
       "      <td>The next step is to find the middle number on ...</td>\n",
       "      <td>We can have more than one mode or no mode at all</td>\n",
       "    </tr>\n",
       "  </tbody>\n",
       "</table>\n",
       "</div>"
      ],
      "text/plain": [
       "                                                Mean  \\\n",
       "0  The average taken for a set of numbers is call...   \n",
       "1  Add all of the numbers together and divide the...   \n",
       "2            The result is the mean or average score   \n",
       "\n",
       "                                              Median  \\\n",
       "0  The middle value in the data set is called the...   \n",
       "1  Place all the given numbers in an ascending order   \n",
       "2  The next step is to find the middle number on ...   \n",
       "\n",
       "                                                Mode  \n",
       "0  The number that occurs the most in a given lis...  \n",
       "1               It shows the frequency of occurrence  \n",
       "2   We can have more than one mode or no mode at all  "
      ]
     },
     "execution_count": 10,
     "metadata": {},
     "output_type": "execute_result"
    }
   ],
   "source": [
    "#                                   ANSWER 2 \n",
    "# The difference between mean, median and mode are:\n",
    "# Mean is the average value of the given observations\n",
    "# Median is the middle value of the given observations\n",
    "# Mode is the most repeated value in the given observation\n",
    "print(\" The difference between mean , median , mode\")\n",
    "import pandas as pd \n",
    "data = (['The average taken for a set of numbers is called a mean','The middle value in the data set is called the Median','The number that occurs the most in a given list of numbers is called a mode'],\n",
    "       ['Add all of the numbers together and divide the sum by the total number of values','Place all the given numbers in an ascending order','It shows the frequency of occurrence'],\n",
    "       ['The result is the mean or average score','The next step is to find the middle number on the list. It is called the median','We can have more than one mode or no mode at all'])\n",
    "df = pd.DataFrame(data,columns=['Mean','Median','Mode'])\n",
    "df"
   ]
  },
  {
   "cell_type": "code",
   "execution_count": 11,
   "id": "c2403093-20e1-4ea7-8dcf-061c9e06d59f",
   "metadata": {},
   "outputs": [],
   "source": [
    "#                                        ANSWER 2 CONTINUE\n",
    "# The central tendency can be found using the formulas of mean, median or mode in most of the cases.mean is the average of a given data set, median is the middlemost data value and the mode represents the most frequently occurring data value in the set."
   ]
  },
  {
   "cell_type": "code",
   "execution_count": 12,
   "id": "40402c34-035e-49d6-a4ab-1f399f714e03",
   "metadata": {},
   "outputs": [
    {
     "name": "stdout",
     "output_type": "stream",
     "text": [
      "Mean Values in the Distribution 0    177.01875\n",
      "dtype: float64\n",
      "Median Values in the Distribution 0    177.0\n",
      "dtype: float64\n",
      "Mode Values in the Distribution        0\n",
      "0  177.0\n",
      "1  178.0\n"
     ]
    }
   ],
   "source": [
    "#                                          ANSWER 3\n",
    "height = [178,177,176,177,178.2,178,175,179,180,175,178.9,176.2,177,172.5,178,176.5]\n",
    "df = pd.DataFrame(height)\n",
    "\n",
    "a = df.mean()\n",
    "print(\"Mean Values in the Distribution\",a)\n",
    "\n",
    "b = df.median()\n",
    "print(\"Median Values in the Distribution\",b)\n",
    "\n",
    "c = df.mode()\n",
    "print(\"Mode Values in the Distribution\",c)"
   ]
  },
  {
   "cell_type": "code",
   "execution_count": 13,
   "id": "20beb936-a694-40a7-8958-5b966bbb9474",
   "metadata": {},
   "outputs": [
    {
     "data": {
      "text/plain": [
       "0    1.847239\n",
       "dtype: float64"
      ]
     },
     "execution_count": 13,
     "metadata": {},
     "output_type": "execute_result"
    }
   ],
   "source": [
    "#                                       ANSWER 4\n",
    "data = [178,177,176,177,178.2,178,175,179,180,175,178.9,176.2,177,172.5,178,176.5]\n",
    "df = pd.DataFrame(data)\n",
    "df.std()"
   ]
  },
  {
   "cell_type": "code",
   "execution_count": 8,
   "id": "ff29fb32-b992-4d26-9f3a-f73b11077d9b",
   "metadata": {},
   "outputs": [
    {
     "data": {
      "text/plain": [
       "' Example : Find the Variance and Standard Deviation of the Following Numbers: 1, 3, 5, 5, 6, 7, 9, 10.\\nSolution:\\nThe mean = (1+ 3+ 5+ 5+ 6+ 7+ 9+ 10)/8 = 46/ 8 = 5.75\\nStep 1: Subtract the mean value from individual value\\n(1 – 5.75), (3 – 5.75), (5 – 5.75), (5 – 5.75), (6 – 5.75), (7 – 5.75), (9 – 5.75), (10 – 5.75)\\n= -4.75, -2.75, -0.75, -0.75, 0.25, 1.25, 3.25, 4.25\\nStep 2: Squaring the above values we get, 22.563, 7.563, 0.563, 0.563, 0.063, 1.563, 10.563, 18.063\\nStep 3: 22.563 + 7.563 + 0.563 + 0.563 + 0.063 + 1.563 + 10.563 + 18.063\\n= 61.504\\nStep 4: n = 8, therefore variance (σ2) = 61.504/ 8 = 7.69\\nNow, Standard deviation (σ) = 2.77\\n\\nExample : Calculate the range and coefficient of range for the following data values.\\n45, 55, 63, 76, 67, 84, 75, 48, 62, 65\\nSolution:\\nLet Xi values be: 45, 55, 63, 76, 67, 84, 75, 48, 62, 65\\nHere,\\nMaxium value (Xmax) = 84\\nMinimum or Least value (Xmin) = 45\\nRange = Maximum value = Minimum value\\n= 84 – 45\\n= 39\\nCoefficient of range = (Xmax – Xmin)/(Xmax + Xmin)\\n= (84 – 45)/(84 + 45)\\n= 39/129\\n= 0.302 (approx)'"
      ]
     },
     "execution_count": 8,
     "metadata": {},
     "output_type": "execute_result"
    }
   ],
   "source": [
    "#                                       ANSWER 5\n",
    "# Dispersion is the state of getting dispersed or spread. Statistical dispersion means the extent to which numerical data is likely to vary about an average value.\n",
    "# Range: It is simply the difference between the maximum value and the minimum value given in a data set. Example: 1, 3,5, 6, 7 => Range = 7 -1= 6\n",
    "# Variance: Deduct the mean from each data in the set, square each of them and add each square and finally divide them by the total no of values in the data set to get the variance. Variance (σ2) = ∑(X−μ)2/N\n",
    "# Standard Deviation: The square root of the variance is known as the standard deviation i.e. S.D. = √σ.\n",
    "''' Example : Find the Variance and Standard Deviation of the Following Numbers: 1, 3, 5, 5, 6, 7, 9, 10.\n",
    "Solution:\n",
    "The mean = (1+ 3+ 5+ 5+ 6+ 7+ 9+ 10)/8 = 46/ 8 = 5.75\n",
    "Step 1: Subtract the mean value from individual value\n",
    "(1 – 5.75), (3 – 5.75), (5 – 5.75), (5 – 5.75), (6 – 5.75), (7 – 5.75), (9 – 5.75), (10 – 5.75)\n",
    "= -4.75, -2.75, -0.75, -0.75, 0.25, 1.25, 3.25, 4.25\n",
    "Step 2: Squaring the above values we get, 22.563, 7.563, 0.563, 0.563, 0.063, 1.563, 10.563, 18.063\n",
    "Step 3: 22.563 + 7.563 + 0.563 + 0.563 + 0.063 + 1.563 + 10.563 + 18.063\n",
    "= 61.504\n",
    "Step 4: n = 8, therefore variance (σ2) = 61.504/ 8 = 7.69\n",
    "Now, Standard deviation (σ) = 2.77\n",
    "\n",
    "Example : Calculate the range and coefficient of range for the following data values.\n",
    "45, 55, 63, 76, 67, 84, 75, 48, 62, 65\n",
    "Solution:\n",
    "Let Xi values be: 45, 55, 63, 76, 67, 84, 75, 48, 62, 65\n",
    "Here,\n",
    "Maxium value (Xmax) = 84\n",
    "Minimum or Least value (Xmin) = 45\n",
    "Range = Maximum value = Minimum value\n",
    "= 84 – 45\n",
    "= 39\n",
    "Coefficient of range = (Xmax – Xmin)/(Xmax + Xmin)\n",
    "= (84 – 45)/(84 + 45)\n",
    "= 39/129\n",
    "= 0.302 (approx)'''"
   ]
  },
  {
   "cell_type": "code",
   "execution_count": 1,
   "id": "9c9b8531-7e20-4416-9217-38c00757d71e",
   "metadata": {},
   "outputs": [],
   "source": [
    "#                                  ANSWER 6 \n",
    "#A Venn diagram uses overlapping circles or other shapes to illustrate the logical relationships between two or more sets of items"
   ]
  },
  {
   "cell_type": "code",
   "execution_count": 2,
   "id": "43879649-71e8-41cf-8796-2b4697794ed3",
   "metadata": {},
   "outputs": [],
   "source": [
    "#                                 ANSWER 7 \n",
    "# 1 ----> A ∩ B = (2,6)\n",
    "# 2 ----> A U B = (0,2,3,4,5,6,7,8,10)"
   ]
  },
  {
   "cell_type": "code",
   "execution_count": 3,
   "id": "3412f70a-ac54-4271-bfbc-ccf7267918e1",
   "metadata": {},
   "outputs": [],
   "source": [
    "#                                ANSWER 8 \n",
    "#  Skewness is a measurement of the distortion of symmetrical distribution or asymmetry in a data set.\n"
   ]
  },
  {
   "cell_type": "code",
   "execution_count": 4,
   "id": "8e90d3b2-5700-4f14-9fac-d57683dfe188",
   "metadata": {},
   "outputs": [],
   "source": [
    "#                                        ANSWER 9\n",
    "# If the distribution of data is skewed to the right, the mode is often less than the median, which is less than the mean."
   ]
  },
  {
   "cell_type": "code",
   "execution_count": 3,
   "id": "b0b920a8-f4c2-4a06-800c-f23b4f1bb76b",
   "metadata": {},
   "outputs": [
    {
     "name": "stdout",
     "output_type": "stream",
     "text": [
      "The difference between covariance and correlation\n"
     ]
    },
    {
     "data": {
      "text/html": [
       "<div>\n",
       "<style scoped>\n",
       "    .dataframe tbody tr th:only-of-type {\n",
       "        vertical-align: middle;\n",
       "    }\n",
       "\n",
       "    .dataframe tbody tr th {\n",
       "        vertical-align: top;\n",
       "    }\n",
       "\n",
       "    .dataframe thead th {\n",
       "        text-align: right;\n",
       "    }\n",
       "</style>\n",
       "<table border=\"1\" class=\"dataframe\">\n",
       "  <thead>\n",
       "    <tr style=\"text-align: right;\">\n",
       "      <th></th>\n",
       "      <th>Covariance</th>\n",
       "      <th>Correlation</th>\n",
       "    </tr>\n",
       "  </thead>\n",
       "  <tbody>\n",
       "    <tr>\n",
       "      <th>Definition</th>\n",
       "      <td>Covariance is an indicator of the extent to wh...</td>\n",
       "      <td>Correlation is a statistical measure that indi...</td>\n",
       "    </tr>\n",
       "    <tr>\n",
       "      <th>Values</th>\n",
       "      <td>The value of covariance lies in the range of -...</td>\n",
       "      <td>Correlation is limited to values between the r...</td>\n",
       "    </tr>\n",
       "    <tr>\n",
       "      <th>Change in scale</th>\n",
       "      <td>Affects covariance</td>\n",
       "      <td>Does not affect the correlation</td>\n",
       "    </tr>\n",
       "    <tr>\n",
       "      <th>Unit-free measure</th>\n",
       "      <td>No</td>\n",
       "      <td>Yes</td>\n",
       "    </tr>\n",
       "  </tbody>\n",
       "</table>\n",
       "</div>"
      ],
      "text/plain": [
       "                                                          Covariance  \\\n",
       "Definition         Covariance is an indicator of the extent to wh...   \n",
       "Values             The value of covariance lies in the range of -...   \n",
       "Change in scale                                   Affects covariance   \n",
       "Unit-free measure                                                 No   \n",
       "\n",
       "                                                         Correlation  \n",
       "Definition         Correlation is a statistical measure that indi...  \n",
       "Values             Correlation is limited to values between the r...  \n",
       "Change in scale                      Does not affect the correlation  \n",
       "Unit-free measure                                                Yes  "
      ]
     },
     "execution_count": 3,
     "metadata": {},
     "output_type": "execute_result"
    }
   ],
   "source": [
    "#                                        ANSWER 10\n",
    "print(\"The difference between covariance and correlation\")\n",
    "index = ['Definition','Values','Change in scale','Unit-free measure']\n",
    "data2 = ([\"Covariance is an indicator of the extent to which 2 random variables are dependent on each other. A higher number denotes higher dependency\",\"Correlation is a statistical measure that indicates how strongly two variables are related\"],\n",
    "       [\"The value of covariance lies in the range of -∞ and +∞\",\"Correlation is limited to values between the range -1 and +1\"],\n",
    "       [\"Affects covariance\",\"Does not affect the correlation\"],\n",
    "       [\"No\",\"Yes\"])\n",
    "df2 = pd.DataFrame(data2,columns=['Covariance','Correlation'],index = index)\n",
    "df2\n",
    "\n",
    "#Covariance is a measure of the relationship between two random variables and to what extent, they change together.\n",
    "#Correlation analysis in research is a statistical method used to measure the strength of the linear relationship between two variables and compute their association. Simply put - correlation analysis calculates the level of change in one variable due to the change in the other."
   ]
  },
  {
   "cell_type": "code",
   "execution_count": 4,
   "id": "d0a3758d-411f-493a-a114-6a88bd763132",
   "metadata": {},
   "outputs": [],
   "source": [
    "#                                    ANSWER 11\n",
    "# The sample mean formula is: x̄ = (xi)/n \n",
    "# Sample Mean = (Sum of terms) ÷ (Number of Terms)\n",
    "# Where,\n",
    "# ∑xi= sum of terms\n",
    "# n = number of terms\n",
    "# Find the mean of the given data set.\n",
    "# {2, 4, 6, 8, 2, 10, 12}\n",
    "# Solution:\n",
    "# Given, {2, 4, 6, 8, 2, 10, 12} is a set of data.\n",
    "# Using sample mean formula,\n",
    "# mean = (sum of terms)/(number of terms)\n",
    "# Mean = 2+4+6+8+2+10+12/7 = 44/7"
   ]
  },
  {
   "cell_type": "code",
   "execution_count": 5,
   "id": "237e50d1-f463-497c-993f-29e8a378f30b",
   "metadata": {},
   "outputs": [],
   "source": [
    "#                                   ANSWER 12\n",
    "# Any normal distribution has a graph that is perfectly symmetric about a vertical line through its peak. Therefore, all measures of central tendency (most commonly, the mean, median, and mode) give the same answer: the x-value of the peak."
   ]
  },
  {
   "cell_type": "code",
   "execution_count": 6,
   "id": "26e98b3b-99d4-4e6f-bce7-a23079249b79",
   "metadata": {},
   "outputs": [],
   "source": [
    "#                                    ANSWER 13\n",
    "# Covariance and correlation are two terms that are opposed and are both used in statistics and regression analysis. Covariance shows you how the two variables differ, whereas correlation shows you how the two variables are related."
   ]
  },
  {
   "cell_type": "code",
   "execution_count": 7,
   "id": "ca07c21a-70d2-4b99-9ba1-c840c6bbf3a8",
   "metadata": {},
   "outputs": [],
   "source": [
    "#                                    ANSWER 14\n",
    "# Outliers are numbers in a data set that are vastly larger or smaller than the other values in the set. Mean, median and mode are measures of central tendency. Mean is the only measure of central tendency that is always affected by an outlier. Mean, the average, is the most popular measure of central tendency.\n",
    "# When a outlier is present it can effect the shape of the graph, if we have outliers to the right of the graph. These outliers are causing the mean to increase, but if we have outliers to the left of the graph these outliers are dragging down the mean. This causes a conflict because the mean no longer provides a good representation of the data, alternatively we would much rather use the median. The median on the other hand is less likely to be affect by outliers."
   ]
  },
  {
   "cell_type": "code",
   "execution_count": null,
   "id": "e7c3f553-5eb9-4f36-af14-d7f2fa5fd688",
   "metadata": {},
   "outputs": [],
   "source": []
  }
 ],
 "metadata": {
  "kernelspec": {
   "display_name": "Python 3 (ipykernel)",
   "language": "python",
   "name": "python3"
  },
  "language_info": {
   "codemirror_mode": {
    "name": "ipython",
    "version": 3
   },
   "file_extension": ".py",
   "mimetype": "text/x-python",
   "name": "python",
   "nbconvert_exporter": "python",
   "pygments_lexer": "ipython3",
   "version": "3.10.8"
  }
 },
 "nbformat": 4,
 "nbformat_minor": 5
}
